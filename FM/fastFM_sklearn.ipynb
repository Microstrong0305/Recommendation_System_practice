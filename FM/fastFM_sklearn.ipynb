{
 "cells": [
  {
   "cell_type": "code",
   "execution_count": 203,
   "metadata": {},
   "outputs": [],
   "source": [
    "from sklearn import metrics\n",
    "from os import path, listdir\n",
    "from sklearn.datasets import load_svmlight_files\n",
    "from sklearn.model_selection import train_test_split\n",
    "from sklearn.externals import joblib  \n",
    "from sklearn import preprocessing\n",
    "from sklearn import metrics\n",
    "from fastFM import als,sgd,mcmc\n",
    "import numpy as np\n",
    "import pandas as pd\n",
    "import random\n",
    "from sklearn.preprocessing import LabelEncoder\n",
    "import tensorflow as tf\n",
    "from scipy.sparse import csc_matrix, csr_matrix"
   ]
  },
  {
   "cell_type": "code",
   "execution_count": 204,
   "metadata": {},
   "outputs": [],
   "source": [
    "def load_dataset():\n",
    "    header = ['user_id', 'age', 'gender', 'occupation', 'zip_code']\n",
    "    df_user = pd.read_csv(r'/data/FM_data/u.user', sep='|', names=header)\n",
    "\n",
    "    header = ['item_id', 'title', 'release_date', 'video_release_date', 'IMDb_URL', 'unknown', 'Action', 'Adventure',\n",
    "              'Animation', 'Children',\n",
    "              'Comedy', 'Crime', 'Documentary', 'Drama', 'Fantasy', 'Film-Noir', 'Horror', 'Musical', 'Mystery',\n",
    "              'Romance', 'Sci-Fi',\n",
    "              'Thriller', 'War', 'Western']\n",
    "    df_item = pd.read_csv(r'/data/FM_data/u.item', sep='|', names=header,\n",
    "                          encoding=\"ISO-8859-1\")\n",
    "    df_item = df_item.drop(['title', 'release_date', 'video_release_date', 'IMDb_URL', 'unknown'], axis=1)\n",
    "\n",
    "    df_user['age'] = pd.cut(df_user['age'], [0, 10, 20, 30, 40, 50, 60, 70, 80, 90, 100],\n",
    "                            labels=['0-10', '10-20', '20-30', '30-40', '40-50', '50-60', '60-70', '70-80', '80-90',\n",
    "                                    '90-100'])\n",
    "    df_user = pd.get_dummies(df_user, columns=['gender', 'occupation', 'age'])\n",
    "    df_user = df_user.drop(['zip_code'], axis=1)\n",
    "\n",
    "    user_features = df_user.columns.values.tolist()\n",
    "    movie_features = df_item.columns.values.tolist()\n",
    "    cols = user_features + movie_features\n",
    "\n",
    "    header = ['user_id', 'item_id', 'rating', 'timestamp']\n",
    "    df_train = pd.read_csv(r'/data/FM_data/ua.base', sep='\\t', names=header)\n",
    "#     df_train['rating'] = df_train.rating.apply(lambda x: 1 if int(x) == 5 else 0)\n",
    "    df_train = df_train.merge(df_user, on='user_id', how='left')\n",
    "    df_train = df_train.merge(df_item, on='item_id', how='left')\n",
    "\n",
    "    df_test = pd.read_csv(r'/data/FM_data/ua.test', sep='\\t', names=header)\n",
    "#     df_test['rating'] = df_test.rating.apply(lambda x: 1 if int(x) == 5 else 0)\n",
    "    df_test = df_test.merge(df_user, on='user_id', how='left')\n",
    "    df_test = df_test.merge(df_item, on='item_id', how='left')\n",
    "#     train_labels = onehot_encoder(df_train['rating'].astype(np.int32), 2)\n",
    "#     test_labels = onehot_encoder(df_test['rating'].astype(np.int32), 2)\n",
    "    train_labels = df_train['rating']\n",
    "    test_labels = df_test['rating']\n",
    "    return df_train[cols].values, train_labels, df_test[cols].values, test_labels"
   ]
  },
  {
   "cell_type": "code",
   "execution_count": 205,
   "metadata": {},
   "outputs": [],
   "source": [
    "# 获取样本数据\n",
    "X_train, Y_train, X_test, Y_test = load_dataset()"
   ]
  },
  {
   "cell_type": "code",
   "execution_count": 206,
   "metadata": {},
   "outputs": [
    {
     "name": "stdout",
     "output_type": "stream",
     "text": [
      "(90570, 53)\n",
      "(90570,)\n",
      "(9430, 53)\n",
      "(9430,)\n"
     ]
    }
   ],
   "source": [
    "print(X_train.shape)\n",
    "print(Y_train.shape)\n",
    "print(X_test.shape)\n",
    "print(Y_test.shape)"
   ]
  },
  {
   "cell_type": "code",
   "execution_count": 207,
   "metadata": {},
   "outputs": [
    {
     "name": "stderr",
     "output_type": "stream",
     "text": [
      "/usr/local/lib/python3.5/dist-packages/ipykernel_launcher.py:2: FutureWarning: Method .as_matrix will be removed in a future version. Use .values instead.\n",
      "  \n",
      "/usr/local/lib/python3.5/dist-packages/ipykernel_launcher.py:5: FutureWarning: Method .as_matrix will be removed in a future version. Use .values instead.\n",
      "  \"\"\"\n"
     ]
    }
   ],
   "source": [
    "new_X_train = csc_matrix(X_train.astype(float))\n",
    "new_Y_train = Y_train.as_matrix().astype(float)\n",
    "\n",
    "new_X_test = csc_matrix(X_test.astype(float))\n",
    "new_Y_test = Y_test.as_matrix().astype(float)"
   ]
  },
  {
   "cell_type": "code",
   "execution_count": 208,
   "metadata": {},
   "outputs": [
    {
     "data": {
      "text/plain": [
       "array([ 4.,  4.,  4., ...,  1.,  4.,  2.])"
      ]
     },
     "execution_count": 208,
     "metadata": {},
     "output_type": "execute_result"
    }
   ],
   "source": [
    "new_Y_test"
   ]
  },
  {
   "cell_type": "code",
   "execution_count": 209,
   "metadata": {},
   "outputs": [],
   "source": [
    "# from fastFM.datasets import make_user_item_regression\n",
    "# from sklearn.model_selection import train_test_split\n",
    "# X, y, _ = make_user_item_regression(label_stdev=.4)\n",
    "# X_train, X_test, y_train, y_test = train_test_split(X, y)"
   ]
  },
  {
   "cell_type": "code",
   "execution_count": 210,
   "metadata": {},
   "outputs": [],
   "source": [
    "# 3.1 建立FM模型，并且设定参数  \n",
    "fm_model = mcmc.FMRegression(n_iter=1000)"
   ]
  },
  {
   "cell_type": "code",
   "execution_count": 211,
   "metadata": {},
   "outputs": [
    {
     "data": {
      "text/plain": [
       "array([ -6.39811298,  -2.32113299,  -8.99595138, ...,  13.44398612,\n",
       "         0.51628555,   2.2937826 ])"
      ]
     },
     "execution_count": 211,
     "metadata": {},
     "output_type": "execute_result"
    }
   ],
   "source": [
    "# 3.2 训练FM模型\n",
    "fm_model.fit_predict(new_X_train, new_Y_train, new_X_test)"
   ]
  },
  {
   "cell_type": "code",
   "execution_count": 212,
   "metadata": {},
   "outputs": [
    {
     "name": "stdout",
     "output_type": "stream",
     "text": [
      "Train mse: 6.57563747694\n"
     ]
    }
   ],
   "source": [
    "# 3.3 采用测试集验证模型离线指标  \n",
    "# 训练集AUC\n",
    "probs_train= fm_model.predict(new_X_train)\n",
    "\n",
    "mse1 = metrics.mean_squared_error(new_Y_train, probs_train)\n",
    "print(\"Train mse: %s\"%(mse1))"
   ]
  },
  {
   "cell_type": "code",
   "execution_count": 213,
   "metadata": {},
   "outputs": [
    {
     "name": "stdout",
     "output_type": "stream",
     "text": [
      "Train mse: 7.58428935587\n"
     ]
    }
   ],
   "source": [
    "#测试集AUC\n",
    "probs_train= fm_model.predict(new_X_test)\n",
    "\n",
    "mse1 = metrics.mean_squared_error(new_Y_test, probs_train)\n",
    "print(\"Train mse: %s\"%(mse1))"
   ]
  },
  {
   "cell_type": "code",
   "execution_count": 214,
   "metadata": {},
   "outputs": [
    {
     "name": "stdout",
     "output_type": "stream",
     "text": [
      "参数: <bound method BaseEstimator.get_params of FMRegression(copy_X=True, init_stdev=0.1, n_iter=1000, random_state=123,\n",
      "       rank=8)>\n",
      "=========FM模型预测的结果=========\n",
      "[ 4.08887938  6.4909626   4.59781272  3.12929889  8.54041709]\n"
     ]
    }
   ],
   "source": [
    "# 3.4 打印模型参数\n",
    "print(\"参数:\",fm_model.get_params)   \n",
    "print(\"=========FM模型预测的结果=========\")  \n",
    "print(fm_model.predict(new_X_test[0:5]))     #sigmoid函数转化的值，即：概率p  "
   ]
  },
  {
   "cell_type": "code",
   "execution_count": 215,
   "metadata": {},
   "outputs": [
    {
     "name": "stdout",
     "output_type": "stream",
     "text": [
      "模型加载\n",
      "[ 4.08887938  6.4909626   4.59781272 ...,  7.60837036  2.37327394\n",
      "  3.76661323]\n"
     ]
    }
   ],
   "source": [
    "# 3.5 模型保存\n",
    "joblib.dump(fm_model,\"FM.model\")  \n",
    "#模型加载\n",
    "print(\"模型加载\")\n",
    "load_FM = joblib.load(\"FM.model\")    \n",
    "print(load_FM.predict(new_X_test))"
   ]
  },
  {
   "cell_type": "code",
   "execution_count": null,
   "metadata": {},
   "outputs": [],
   "source": []
  }
 ],
 "metadata": {
  "kernelspec": {
   "display_name": "Python 3",
   "language": "python",
   "name": "python3"
  },
  "language_info": {
   "codemirror_mode": {
    "name": "ipython",
    "version": 3
   },
   "file_extension": ".py",
   "mimetype": "text/x-python",
   "name": "python",
   "nbconvert_exporter": "python",
   "pygments_lexer": "ipython3",
   "version": "3.5.2"
  }
 },
 "nbformat": 4,
 "nbformat_minor": 2
}
