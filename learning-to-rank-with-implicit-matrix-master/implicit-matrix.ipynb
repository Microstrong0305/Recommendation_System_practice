{
 "cells": [
  {
   "cell_type": "code",
   "execution_count": 1,
   "metadata": {
    "collapsed": true
   },
   "outputs": [],
   "source": [
    "import scipy as sp\n",
    "import numpy as np\n",
    "import pandas as pd\n",
    "import time\n",
    "import lightfm.evaluation\n",
    "from lightfm import LightFM\n",
    "from implicit.als import AlternatingLeastSquares\n",
    "import sklearn.metrics\n",
    "import math\n",
    "import random"
   ]
  },
  {
   "cell_type": "code",
   "execution_count": 2,
   "metadata": {
    "collapsed": true
   },
   "outputs": [],
   "source": [
    "data = pd.read_table(\"/mnt/data/lastfm/360k/lastfm-dataset-360K/usersha1-artmbid-artname-plays.tsv\", \n",
    "                         usecols=[0, 2, 3], \n",
    "                         names=['user', 'artist', 'plays'],na_filter=False)\n",
    "data['user'] = data['user'].astype(\"category\")\n",
    "data['artist'] = data['artist'].astype(\"category\")\n",
    "plays = sp.sparse.coo_matrix((data['plays'].astype(float), \n",
    "                   (data['user'].cat.codes,\n",
    "                    data['artist'].cat.codes)), dtype = np.double)"
   ]
  },
  {
   "cell_type": "code",
   "execution_count": 3,
   "metadata": {
    "collapsed": true
   },
   "outputs": [],
   "source": [
    "plays = plays.astype(np.double)"
   ]
  },
  {
   "cell_type": "code",
   "execution_count": 13,
   "metadata": {
    "collapsed": true
   },
   "outputs": [],
   "source": [
    "small_data = pd.read_csv('/mnt/data/lastfm/2k/user_artists.dat', sep = '\\t')\n",
    "plays = sp.sparse.coo_matrix((small_data['weight'].astype(float), \n",
    "                                             (small_data['userID'], \n",
    "                                              small_data['artistID'])), dtype = np.double)"
   ]
  },
  {
   "cell_type": "code",
   "execution_count": 4,
   "metadata": {
    "collapsed": true
   },
   "outputs": [],
   "source": [
    "def split_train_test(plays, train_rate = 0.8):\n",
    "    user_index = range(plays.shape[0])\n",
    "    train = plays.copy().tolil()\n",
    "    test = sp.sparse.lil_matrix(plays.shape)\n",
    "    \n",
    "    min_rows = int(1/(1 - train_rate))\n",
    "    for uindex in user_index:\n",
    "        rows = plays.getrow(uindex).indices\n",
    "        if len(rows) <= min_rows:\n",
    "            continue\n",
    "        testindics = np.random.choice(plays.getrow(uindex).indices, \n",
    "                                        size=int(len(rows) * (1 - train_rate)), \n",
    "                                        replace=False)\n",
    "        train[uindex, testindics] = 0.\n",
    "        test[uindex, testindics] = plays[uindex, testindics]\n",
    "    \n",
    "    train = train.tocsr()\n",
    "    train.eliminate_zeros()\n",
    "    return train, test.tocsr()\n",
    "\n",
    "def train_pair_wise_model_and_evaluate(train, test = None, factors = 50, epochs = 10, learning_rate = 0.05, loss = 'bpr', eva = True):\n",
    "    tic = time.time()\n",
    "    model = LightFM(no_components = factors, learning_rate=learning_rate, loss=loss)\n",
    "    model.fit(train, epochs=epochs, num_threads = 2)\n",
    "    toc = time.time()\n",
    "    print(\"LightFM training cost %.2f seconds\" % (toc - tic))\n",
    "    \n",
    "    if test is not None and eva:\n",
    "        eva_test = lightfm.evaluation.auc_score(model, test, num_threads = 2)\n",
    "        print(\"User auc mean = %.2f, std = %.2f (on testing dataset)\" % (eva_test.mean(), eva_test.std()))\n",
    "    \n",
    "    return model"
   ]
  },
  {
   "cell_type": "code",
   "execution_count": 5,
   "metadata": {
    "collapsed": true
   },
   "outputs": [],
   "source": [
    "train_mat, test_mat = split_train_test(plays.tocsr())"
   ]
  },
  {
   "cell_type": "code",
   "execution_count": null,
   "metadata": {
    "collapsed": true,
    "scrolled": true
   },
   "outputs": [],
   "source": [
    "model = train_pair_wise_model_and_evaluate(train_mat, test = test_mat)"
   ]
  },
  {
   "cell_type": "code",
   "execution_count": 17,
   "metadata": {
    "collapsed": true
   },
   "outputs": [],
   "source": [
    "def generate_hot_item_list(plays, top = 1000):\n",
    "    item_indexs, item_counts = np.unique(plays.col, return_counts = True)\n",
    "    items_played_count = filter(lambda item_pair: item_pair[1] > 10, list(zip(item_indexs, item_counts)))\n",
    "    \n",
    "    return sorted(list(items_played_count), key = lambda i:i[1], reverse = True)[: top]"
   ]
  },
  {
   "cell_type": "markdown",
   "metadata": {},
   "source": [
    "为一个指定的用户产生负样本。产生的方式是：\n",
    "\n",
    "1. 从热门Item中去掉用户已收听的Item\n",
    "2. 按照热门程度加权采样"
   ]
  },
  {
   "cell_type": "code",
   "execution_count": 35,
   "metadata": {
    "collapsed": true
   },
   "outputs": [],
   "source": [
    "def weighted_sampling(sequence, k):\n",
    "    \"\"\"\n",
    "    parameters:\n",
    "    \n",
    "    sequence -- list-like [(item1, weight1), ...]\n",
    "    \n",
    "    k -- number of selected items\n",
    "    \n",
    "    return:\n",
    "    \n",
    "    list that selected.\n",
    "    \"\"\"\n",
    "    \n",
    "    weighted_list = []\n",
    "    for elements in sequence:\n",
    "        weighted_list.append((elements[0], random.expovariate(elements[1])))\n",
    "    \n",
    "    return sorted(weighted_list, key = lambda x : x[1])[:k]"
   ]
  },
  {
   "cell_type": "code",
   "execution_count": 25,
   "metadata": {
    "collapsed": true
   },
   "outputs": [],
   "source": [
    "def generate_negative_samples(uindex, plays, hot_items, negative_count = 5):\n",
    "    history = set(plays.getrow(2).indices)\n",
    "    candidates = []\n",
    "    for (item, weight) in hot_items:\n",
    "        if item in history:\n",
    "            continue\n",
    "        candidates.append((item, weight))\n",
    "    if negative_count > len(candidates):\n",
    "        negative_count = len(candidates)\n",
    "    return weighted_sampling(candidates, negative_count)\n",
    "\n",
    "#negative_samples = generate_negative_samples(2, plays.tocsr(), hot_items, 50)"
   ]
  },
  {
   "cell_type": "code",
   "execution_count": 35,
   "metadata": {
    "collapsed": true
   },
   "outputs": [],
   "source": [
    "def evaluate_point_wise_model(model, plays, test, num_test_users = -1):\n",
    "    hot_items = generate_hot_item_list(test_mat.tocoo())\n",
    "    user_indexes = range(plays.shape[0])\n",
    "    aucs = []\n",
    "    if num_test_users > 0:\n",
    "        user_indexes = np.random.choice(user_indexes, num_test_users)\n",
    "    for uindex in user_indexes:\n",
    "        positive_samples = test_mat.tocsr().getrow(uindex).indices\n",
    "        negative_samples = generate_negative_samples(uindex, plays.tocsr(), hot_items, len(positive_samples))\n",
    "        if len(negative_samples) == 0:\n",
    "            continue\n",
    "        negative_samples, weight = zip(*negative_samples)\n",
    "        negative_samples = np.array(negative_samples)\n",
    "        user_factor = model.user_factors[uindex].reshape((1, model.factors))\n",
    "        user_samples = np.concatenate((positive_samples,  negative_samples), axis = 0).astype(np.int64)\n",
    "        user_feedback = np.concatenate((np.full(len(positive_samples), 1), np.full(len(negative_samples), 0)), axis = 0)\n",
    "        item_factors = model.item_factors[user_samples]\n",
    "        scores = np.dot(user_factor, item_factors.transpose()).reshape(len(user_feedback))\n",
    "        fpr, tpr, thresholds = sklearn.metrics.roc_curve(user_feedback, scores, pos_label=1)\n",
    "        auc = sklearn.metrics.auc(fpr, tpr)\n",
    "        aucs.append(auc)\n",
    "    return np.array(aucs)"
   ]
  },
  {
   "cell_type": "code",
   "execution_count": 6,
   "metadata": {
    "collapsed": true
   },
   "outputs": [],
   "source": [
    "def train_point_wise_model_and_evaluate(train, plays = None, test = None, factors = 100, epochs = 100, learning_rate = 0.05,num_test_users = -1, eva = True):\n",
    "    tic = time.time()\n",
    "    model = AlternatingLeastSquares(factors = factors, iterations = epochs)\n",
    "    model.fit(train.transpose())\n",
    "    toc = time.time()\n",
    "    print(\"ALS training cost %.2f seconds\" % (toc - tic))\n",
    "    \n",
    "    if eva:\n",
    "        eva_test = evaluate_point_wise_model(model, plays, test, num_test_users)\n",
    "        print(\"User auc mean = %.2f, std = %.2f (on testing dataset)\" % (eva_test.mean(), eva_test.std()))\n",
    "    return model"
   ]
  },
  {
   "cell_type": "code",
   "execution_count": 36,
   "metadata": {},
   "outputs": [
    {
     "name": "stderr",
     "output_type": "stream",
     "text": [
      "WARNING:root:OpenBLAS detected. Its highly recommend to set the environment variable 'export OPENBLAS_NUM_THREADS=1' to disable its internal multithreading\n"
     ]
    },
    {
     "name": "stdout",
     "output_type": "stream",
     "text": [
      "ALS training cost 5.71 seconds\n",
      "User auc mean = 0.67, std = 0.16 (on testing dataset)\n"
     ]
    }
   ],
   "source": [
    "model2 = train_point_wise_model_and_evaluate(train_mat, plays, test_mat, factors = 100, epochs = 10, num_test_users = 1000)"
   ]
  },
  {
   "cell_type": "code",
   "execution_count": 7,
   "metadata": {},
   "outputs": [
    {
     "name": "stdout",
     "output_type": "stream",
     "text": [
      "LightFM training cost 634.01 seconds\n"
     ]
    }
   ],
   "source": [
    "model1 = train_pair_wise_model_and_evaluate(train_mat, test = None, factors = 100, epochs = 10, eva = False)"
   ]
  },
  {
   "cell_type": "code",
   "execution_count": 8,
   "metadata": {},
   "outputs": [
    {
     "name": "stderr",
     "output_type": "stream",
     "text": [
      "WARNING:root:OpenBLAS detected. Its highly recommend to set the environment variable 'export OPENBLAS_NUM_THREADS=1' to disable its internal multithreading\n"
     ]
    },
    {
     "name": "stdout",
     "output_type": "stream",
     "text": [
      "ALS training cost 119.72 seconds\n"
     ]
    }
   ],
   "source": [
    "model2 = train_point_wise_model_and_evaluate(train_mat, factors = 100, epochs = 10, eva = False)"
   ]
  },
  {
   "cell_type": "code",
   "execution_count": 67,
   "metadata": {
    "collapsed": true
   },
   "outputs": [],
   "source": [
    "class Recommender(object):\n",
    "    def __init__(self, models = {}, plays = None, artists = None):\n",
    "        self.models = models\n",
    "        self.plays = plays\n",
    "        self.artists = artists\n",
    "        self.artistsDict = None\n",
    "        if artists is not None:\n",
    "            index, names = zip(*list(enumerate(self.artists)))\n",
    "            self.artistsDict = dict(zip(names, index))\n",
    "        \n",
    "    def recommend(self, userid, modelname = 'bpr', top = 10, with_history = True):\n",
    "        if modelname not in self.models:\n",
    "            return []\n",
    "        \n",
    "        recommend_list = []\n",
    "        if modelname == 'bpr':\n",
    "            recommend_list = self._recommend_with_bpr(userid, top)\n",
    "        elif modelname == 'als':\n",
    "            recommend_list = self._recommend_with_als(userid, top)\n",
    "        \n",
    "        return self._output_more(userid, None, recommend_list, with_history)\n",
    "    \n",
    "    def similar_items(self, artist_name, top = 10):\n",
    "        if artist_name not in self.artistsDict:\n",
    "            return {}\n",
    "        itemid = self.artistsDict[artist_name]\n",
    "        model = self.models['als']\n",
    "        similar_items = model.similar_items(itemid, top) \n",
    "        return self._output_more(None, itemid, similar_items, False)\n",
    "    \n",
    "    def _recommend_with_bpr(self, userid, top):\n",
    "        \"\"\"\n",
    "        compute recommendation for user\n",
    "        \"\"\"\n",
    "        model = self.models['bpr']\n",
    "        items = np.array(range(plays.shape[1]))\n",
    "        scores = model.predict(userid, items)\n",
    "        sorted_items = sorted(zip(items, scores), key = lambda x : x[1], reverse = True)       \n",
    "        \"\"\"\n",
    "        filter the items the user has consumed. \n",
    "        \"\"\"\n",
    "        history = set(self.plays.getrow(userid).indices)\n",
    "        recommendations = []\n",
    "        for item in sorted_items:\n",
    "            if item[0] in history:\n",
    "                continue\n",
    "            recommendations.append(item)\n",
    "            if len(recommendations) >= top:\n",
    "                break\n",
    "        return recommendations\n",
    "    \n",
    "    def _recommend_with_als(self, userid, top):\n",
    "        model = self.models['als']\n",
    "        return model.recommend(userid, self.plays, N = top)\n",
    "    \n",
    "    def _output_more(self, userid, itemid, item_list, with_history):\n",
    "        userinfo = []\n",
    "        output_iteminfo = []\n",
    "        input_iteminfo = []\n",
    "        if userid and with_history:\n",
    "            userinfo = self._output_user_more_info(userid)\n",
    "        if item_list:\n",
    "            output_iteminfo = self._output_items_more_info(item_list)\n",
    "        if itemid:\n",
    "            input_iteminfo = self._output_items_more_info([(itemid, 1)])\n",
    "        return {'user': userinfo, 'item':input_iteminfo, 'items': output_iteminfo}\n",
    "    \n",
    "    def _output_user_more_info(self, userid, sort = False, top = -1):\n",
    "        history = self.artists[self.plays.getrow(userid).indices]\n",
    "        playcount = self.plays.getrow(userid).data\n",
    "        \n",
    "        if not sort:\n",
    "            return list(zip(history, playcount))[: top]\n",
    "        else:\n",
    "            return sorted(list(zip(history, playcount)), key = lambda item: item[1], reverse = True)[: top]\n",
    "    \n",
    "    def _output_items_more_info(self, items):\n",
    "        itemids, scores = zip(*items)\n",
    "        iteminfo = self.artists[list(itemids)]\n",
    "        return list(zip(iteminfo, scores))"
   ]
  },
  {
   "cell_type": "code",
   "execution_count": 68,
   "metadata": {
    "collapsed": true
   },
   "outputs": [],
   "source": [
    "recommender = Recommender({'bpr': model1, 'als':model2}, plays.tocsr(), data.artist.cat.categories)"
   ]
  },
  {
   "cell_type": "code",
   "execution_count": 69,
   "metadata": {},
   "outputs": [
    {
     "data": {
      "text/plain": [
       "[('周杰倫', 2122.0),\n",
       " ('陳奕迅', 1181.0),\n",
       " ('glenn gould', 673.0),\n",
       " ('楊丞琳', 536.0),\n",
       " ('wolfgang amadeus mozart', 492.0),\n",
       " ('aly & aj', 452.0),\n",
       " ('secondhand serenade', 425.0),\n",
       " ('avril lavigne', 424.0),\n",
       " ('s.h.e', 417.0),\n",
       " ('johann sebastian bach', 304.0),\n",
       " ('張敬軒', 291.0),\n",
       " ('kevin kern', 223.0),\n",
       " ('倉木麻衣', 223.0),\n",
       " ('張韶涵', 203.0),\n",
       " ('mitsuko uchida', 197.0),\n",
       " ('鄧麗欣', 194.0),\n",
       " ('x japan', 193.0),\n",
       " ('academy st. martins in the fields', 180.0),\n",
       " ('garnet crow', 160.0),\n",
       " ('michelle branch', 153.0),\n",
       " ('troy and gabriella', 150.0),\n",
       " ('jesse mccartney', 148.0),\n",
       " ('céline dion', 144.0),\n",
       " ('gil shaham and goran sollscher', 143.0),\n",
       " ('hide', 136.0),\n",
       " ('westlife', 136.0),\n",
       " ('孫燕姿', 128.0),\n",
       " ('jason mraz', 126.0),\n",
       " ('andy mckee', 123.0),\n",
       " ('oku hanako', 122.0),\n",
       " ('high school musical 2', 113.0),\n",
       " ('zard', 113.0),\n",
       " ('sara bareilles', 101.0),\n",
       " ('backstreet boys', 99.0),\n",
       " ('the corrs', 99.0),\n",
       " ('kelly sweet', 98.0),\n",
       " ('三枝夕夏 in db', 97.0),\n",
       " ('glay', 92.0),\n",
       " ('david garrett', 90.0),\n",
       " ('タイナカサチ', 87.0),\n",
       " ('james blunt', 84.0),\n",
       " (\"the st. philips boy's choir\", 84.0),\n",
       " ('david archuleta', 82.0),\n",
       " ('linkin park', 81.0),\n",
       " ('coldplay', 69.0),\n",
       " (\"b'z\", 68.0),\n",
       " ('nelly furtado', 65.0),\n",
       " ('sigiswald kuijken', 62.0)]"
      ]
     },
     "execution_count": 69,
     "metadata": {},
     "output_type": "execute_result"
    }
   ],
   "source": [
    "recommendation1 = recommender.recommend(173031, modelname='bpr', top = 20, with_history = False)\n",
    "recommendation2 = recommender.recommend(173031, modelname='als', top = 20, with_history = False)\n",
    "recommender._output_user_more_info(173031, sort = True)"
   ]
  },
  {
   "cell_type": "code",
   "execution_count": 61,
   "metadata": {},
   "outputs": [
    {
     "data": {
      "text/plain": [
       "{'item': [],\n",
       " 'items': [('josh groban', 2.541165828704834),\n",
       "  ('michael w. smith', 2.5229959487915039),\n",
       "  ('hillsong', 2.4939250946044922),\n",
       "  ('宇多田ヒカル', 2.3995833396911621),\n",
       "  ('hayley westenra', 2.369992733001709),\n",
       "  ('angela aki', 2.3347458839416504),\n",
       "  ('casting crowns', 2.3013358116149902),\n",
       "  ('hillsong united', 2.2782249450683594),\n",
       "  ('boa', 2.2732632160186768),\n",
       "  ('steven curtis chapman', 2.2700684070587158),\n",
       "  ('rebecca st. james', 2.2616958618164062),\n",
       "  ('kokia', 2.2322888374328613),\n",
       "  ('barlowgirl', 2.2148218154907227),\n",
       "  ('do as infinity', 2.213282585144043),\n",
       "  ('f.i.r.', 2.1844463348388672),\n",
       "  ('corrinne may', 2.1044127941131592),\n",
       "  ('chris tomlin', 2.0857734680175781),\n",
       "  ('celtic woman', 2.0772864818572998),\n",
       "  ('depapepe', 2.0735812187194824),\n",
       "  ('ayaka', 2.0611968040466309)],\n",
       " 'user': []}"
      ]
     },
     "execution_count": 61,
     "metadata": {},
     "output_type": "execute_result"
    }
   ],
   "source": [
    "recommendation1"
   ]
  },
  {
   "cell_type": "code",
   "execution_count": 62,
   "metadata": {},
   "outputs": [
    {
     "data": {
      "text/plain": [
       "{'item': [],\n",
       " 'items': [('taylor swift', 1.186539712906344),\n",
       "  ('frédéric chopin', 1.1863112931343351),\n",
       "  ('colbie caillat', 1.0978262200222491),\n",
       "  ('jonas brothers', 1.0811056577548976),\n",
       "  ('bruno coulais', 1.0621494330528296),\n",
       "  ('boa', 1.0488158944365353),\n",
       "  ('bryan adams', 1.0277970165423405),\n",
       "  ('daniel powter', 1.0220579888574337),\n",
       "  ('yann tiersen', 1.0143708728515772),\n",
       "  ('f.i.r.', 1.012305501265341),\n",
       "  ('yiruma', 1.003527371248728),\n",
       "  ('hilary duff', 0.99238201965409678),\n",
       "  ('mandy moore', 0.97962069749414749),\n",
       "  ('natasha bedingfield', 0.97652199359550906),\n",
       "  ('simple plan', 0.95801904189552334),\n",
       "  ('daughtry', 0.95771285384471316),\n",
       "  ('bz', 0.93582329901255945),\n",
       "  ('mariah carey', 0.93090378201808766),\n",
       "  ('angela aki', 0.92184519678959209),\n",
       "  ('claude debussy', 0.9190989429349703)],\n",
       " 'user': []}"
      ]
     },
     "execution_count": 62,
     "metadata": {},
     "output_type": "execute_result"
    }
   ],
   "source": [
    "recommendation2"
   ]
  },
  {
   "cell_type": "code",
   "execution_count": 56,
   "metadata": {},
   "outputs": [],
   "source": [
    "similar_items = recommender.similar_items('周杰倫', 10)"
   ]
  },
  {
   "cell_type": "code",
   "execution_count": 57,
   "metadata": {},
   "outputs": [
    {
     "data": {
      "text/plain": [
       "{'item': [('周杰倫', 1)],\n",
       " 'items': [('周杰倫', 0.99999999999999989),\n",
       "  ('王力宏', 0.88290674032689487),\n",
       "  ('陶喆', 0.85771472510708613),\n",
       "  ('南拳媽媽', 0.85302933173781792),\n",
       "  ('陳奕迅', 0.85081279073917004),\n",
       "  ('林俊傑', 0.8493482632159628),\n",
       "  ('孫燕姿', 0.83399343224087041),\n",
       "  ('張惠妹', 0.82906432515041484),\n",
       "  ('方大同', 0.82485675783986334),\n",
       "  ('五月天', 0.82292313630632996)],\n",
       " 'user': []}"
      ]
     },
     "execution_count": 57,
     "metadata": {},
     "output_type": "execute_result"
    }
   ],
   "source": [
    "similar_items"
   ]
  },
  {
   "cell_type": "code",
   "execution_count": null,
   "metadata": {
    "collapsed": true
   },
   "outputs": [],
   "source": []
  }
 ],
 "metadata": {
  "kernelspec": {
   "display_name": "Python 3",
   "language": "python",
   "name": "python3"
  },
  "language_info": {
   "codemirror_mode": {
    "name": "ipython",
    "version": 3
   },
   "file_extension": ".py",
   "mimetype": "text/x-python",
   "name": "python",
   "nbconvert_exporter": "python",
   "pygments_lexer": "ipython3",
   "version": "3.6.0"
  }
 },
 "nbformat": 4,
 "nbformat_minor": 2
}
